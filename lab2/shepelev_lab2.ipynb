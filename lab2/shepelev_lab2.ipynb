{
 "cells": [
  {
   "cell_type": "markdown",
   "id": "9fa29746-ad3b-411b-afa3-2bb07b38bcfd",
   "metadata": {},
   "source": [
    "Шепелев Д."
   ]
  },
  {
   "cell_type": "markdown",
   "id": "5575942a-15a9-4d2d-bde3-e6a5ce98142e",
   "metadata": {},
   "source": [
    "**Импорты**"
   ]
  },
  {
   "cell_type": "code",
   "execution_count": 1,
   "id": "4451f858-2c2c-4781-b397-45661df298be",
   "metadata": {},
   "outputs": [],
   "source": [
    "import warnings\n",
    "warnings.filterwarnings(\"ignore\")"
   ]
  },
  {
   "cell_type": "code",
   "execution_count": 2,
   "id": "0ba97037-e428-4c18-a082-240285071dee",
   "metadata": {},
   "outputs": [],
   "source": [
    "import numpy as np\n",
    "import pandas as pd\n",
    "from scipy.spatial import distance"
   ]
  },
  {
   "cell_type": "markdown",
   "id": "87886b91-20a8-4f1d-9e54-9ff2328f85cd",
   "metadata": {},
   "source": [
    "**Дано**"
   ]
  },
  {
   "cell_type": "code",
   "execution_count": 3,
   "id": "56c949a6-ceff-4f48-a5b1-8bdc2ff0a9ff",
   "metadata": {},
   "outputs": [],
   "source": [
    "n = 10000\n",
    "demensions = [1, 2, 3, 5, 10, 20, 50, 100, 500]"
   ]
  },
  {
   "cell_type": "markdown",
   "id": "b4a314bd-f799-4dc0-9921-45816c818476",
   "metadata": {},
   "source": [
    "**Вычисление параметров**"
   ]
  },
  {
   "cell_type": "code",
   "execution_count": 4,
   "id": "a81b2cff-3624-4974-b978-110585089529",
   "metadata": {},
   "outputs": [],
   "source": [
    "min_dist_list = []\n",
    "max_dist_list = []\n",
    "avg_dist_list = []\n",
    "max_dist_nn_list = []\n",
    "avg_dist_nn_list = []"
   ]
  },
  {
   "cell_type": "code",
   "execution_count": 5,
   "id": "607334ed-42d3-42dc-9874-b9a748bc75d4",
   "metadata": {},
   "outputs": [],
   "source": [
    "for d in demensions:\n",
    "    points = np.random.rand(n, d)\n",
    "    dist = distance.cdist(points, points, 'euclidean')\n",
    "    \n",
    "    min_dist = dist[dist != 0.0].min()\n",
    "    max_dist = dist.max()\n",
    "    avg_dist = np.sum(dist) / (n * n - n)\n",
    "    \n",
    "    dist[dist == 0.0] = 1000\n",
    "    max_dist_nn = dist.min(axis = 0).max()\n",
    "    avg_dist_nn = np.sum(dist.min(axis = 0)) / n\n",
    "    \n",
    "    min_dist_list.append(min_dist)\n",
    "    max_dist_list.append(max_dist)\n",
    "    avg_dist_list.append(avg_dist)\n",
    "    max_dist_nn_list.append(max_dist_nn)\n",
    "    avg_dist_nn_list.append(avg_dist_nn)"
   ]
  },
  {
   "cell_type": "markdown",
   "id": "64ecdd7a-407e-4fe2-86ce-fc13f086c19e",
   "metadata": {},
   "source": [
    "**Форматирование табличных данных**"
   ]
  },
  {
   "cell_type": "code",
   "execution_count": 6,
   "id": "af6343e5-35a1-4d5f-b106-16dae6760964",
   "metadata": {},
   "outputs": [],
   "source": [
    "min_dist_list = np.char.mod('%.10f', min_dist_list)\n",
    "avg_dist_list = np.char.mod('%.2f', avg_dist_list)\n",
    "max_dist_list = np.char.mod('%.2f', max_dist_list)"
   ]
  },
  {
   "cell_type": "markdown",
   "id": "b645fdd9-c702-4135-b875-4520e56b67d2",
   "metadata": {},
   "source": [
    "**Вывод таблицы**"
   ]
  },
  {
   "cell_type": "code",
   "execution_count": 7,
   "id": "8366fda4-2538-42a8-9cc6-0c0a65c14893",
   "metadata": {},
   "outputs": [
    {
     "data": {
      "text/html": [
       "<div>\n",
       "<style scoped>\n",
       "    .dataframe tbody tr th:only-of-type {\n",
       "        vertical-align: middle;\n",
       "    }\n",
       "\n",
       "    .dataframe tbody tr th {\n",
       "        vertical-align: top;\n",
       "    }\n",
       "\n",
       "    .dataframe thead th {\n",
       "        text-align: right;\n",
       "    }\n",
       "</style>\n",
       "<table border=\"1\" class=\"dataframe\">\n",
       "  <thead>\n",
       "    <tr style=\"text-align: right;\">\n",
       "      <th></th>\n",
       "      <th>p</th>\n",
       "      <th>min_dist</th>\n",
       "      <th>avg_dist</th>\n",
       "      <th>max_dist</th>\n",
       "      <th>NN_avg_dist</th>\n",
       "      <th>NN_max_dist</th>\n",
       "    </tr>\n",
       "  </thead>\n",
       "  <tbody>\n",
       "    <tr>\n",
       "      <th>0</th>\n",
       "      <td>1</td>\n",
       "      <td>0.0000000102</td>\n",
       "      <td>0.33</td>\n",
       "      <td>1.00</td>\n",
       "      <td>0.000050</td>\n",
       "      <td>0.000471</td>\n",
       "    </tr>\n",
       "    <tr>\n",
       "      <th>1</th>\n",
       "      <td>2</td>\n",
       "      <td>0.0000425486</td>\n",
       "      <td>0.52</td>\n",
       "      <td>1.40</td>\n",
       "      <td>0.005044</td>\n",
       "      <td>0.018480</td>\n",
       "    </tr>\n",
       "    <tr>\n",
       "      <th>2</th>\n",
       "      <td>3</td>\n",
       "      <td>0.0017601077</td>\n",
       "      <td>0.66</td>\n",
       "      <td>1.64</td>\n",
       "      <td>0.026284</td>\n",
       "      <td>0.077671</td>\n",
       "    </tr>\n",
       "    <tr>\n",
       "      <th>3</th>\n",
       "      <td>5</td>\n",
       "      <td>0.0189325174</td>\n",
       "      <td>0.88</td>\n",
       "      <td>1.98</td>\n",
       "      <td>0.109470</td>\n",
       "      <td>0.213369</td>\n",
       "    </tr>\n",
       "    <tr>\n",
       "      <th>4</th>\n",
       "      <td>10</td>\n",
       "      <td>0.1200031386</td>\n",
       "      <td>1.26</td>\n",
       "      <td>2.47</td>\n",
       "      <td>0.387291</td>\n",
       "      <td>0.634684</td>\n",
       "    </tr>\n",
       "    <tr>\n",
       "      <th>5</th>\n",
       "      <td>20</td>\n",
       "      <td>0.4862249933</td>\n",
       "      <td>1.81</td>\n",
       "      <td>3.03</td>\n",
       "      <td>0.897165</td>\n",
       "      <td>1.213980</td>\n",
       "    </tr>\n",
       "    <tr>\n",
       "      <th>6</th>\n",
       "      <td>50</td>\n",
       "      <td>1.5746607605</td>\n",
       "      <td>2.87</td>\n",
       "      <td>4.14</td>\n",
       "      <td>1.968447</td>\n",
       "      <td>2.313133</td>\n",
       "    </tr>\n",
       "    <tr>\n",
       "      <th>7</th>\n",
       "      <td>100</td>\n",
       "      <td>2.7596810356</td>\n",
       "      <td>4.07</td>\n",
       "      <td>5.47</td>\n",
       "      <td>3.181664</td>\n",
       "      <td>3.529317</td>\n",
       "    </tr>\n",
       "    <tr>\n",
       "      <th>8</th>\n",
       "      <td>500</td>\n",
       "      <td>7.7597409458</td>\n",
       "      <td>9.13</td>\n",
       "      <td>10.41</td>\n",
       "      <td>8.252445</td>\n",
       "      <td>8.648331</td>\n",
       "    </tr>\n",
       "  </tbody>\n",
       "</table>\n",
       "</div>"
      ],
      "text/plain": [
       "     p      min_dist avg_dist max_dist  NN_avg_dist  NN_max_dist\n",
       "0    1  0.0000000102     0.33     1.00     0.000050     0.000471\n",
       "1    2  0.0000425486     0.52     1.40     0.005044     0.018480\n",
       "2    3  0.0017601077     0.66     1.64     0.026284     0.077671\n",
       "3    5  0.0189325174     0.88     1.98     0.109470     0.213369\n",
       "4   10  0.1200031386     1.26     2.47     0.387291     0.634684\n",
       "5   20  0.4862249933     1.81     3.03     0.897165     1.213980\n",
       "6   50  1.5746607605     2.87     4.14     1.968447     2.313133\n",
       "7  100  2.7596810356     4.07     5.47     3.181664     3.529317\n",
       "8  500  7.7597409458     9.13    10.41     8.252445     8.648331"
      ]
     },
     "execution_count": 7,
     "metadata": {},
     "output_type": "execute_result"
    }
   ],
   "source": [
    "df = pd.DataFrame({'p': demensions, \n",
    "                   'min_dist': min_dist_list, \n",
    "                   'avg_dist': avg_dist_list, \n",
    "                   'max_dist': max_dist_list, \n",
    "                   'NN_avg_dist': avg_dist_nn_list,\n",
    "                   'NN_max_dist': max_dist_nn_list})\n",
    "df"
   ]
  },
  {
   "cell_type": "markdown",
   "id": "07236a00-752f-4abe-bcbd-8fc95adfd78c",
   "metadata": {},
   "source": [
    "**Вывод:**\n",
    "По таблице видно как при повышении размерности данных начинает работать \"проклятие размерности\". Разница в растоянии между ближайшей соседней точкой и любой другой все больше размывается."
   ]
  },
  {
   "cell_type": "code",
   "execution_count": null,
   "id": "91325cb8-4d88-47c3-af08-2d4ed083b214",
   "metadata": {},
   "outputs": [],
   "source": []
  }
 ],
 "metadata": {
  "kernelspec": {
   "display_name": "Python 3 (ipykernel)",
   "language": "python",
   "name": "python3"
  },
  "language_info": {
   "codemirror_mode": {
    "name": "ipython",
    "version": 3
   },
   "file_extension": ".py",
   "mimetype": "text/x-python",
   "name": "python",
   "nbconvert_exporter": "python",
   "pygments_lexer": "ipython3",
   "version": "3.10.11"
  }
 },
 "nbformat": 4,
 "nbformat_minor": 5
}
